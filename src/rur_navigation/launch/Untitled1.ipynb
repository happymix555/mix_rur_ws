{
 "cells": [
  {
   "cell_type": "code",
   "execution_count": 12,
   "id": "27c875da-926e-40b9-9a22-a4bb047aa921",
   "metadata": {},
   "outputs": [
    {
     "name": "stdout",
     "output_type": "stream",
     "text": [
      "1\n"
     ]
    }
   ],
   "source": [
    "global pre_vx, pre_w\n",
    "pre_vx = 9\n",
    "pre_w = 8\n",
    "def cmd_vel(vx, w):\n",
    "    # print(str(vx) + ', ' + str(w))\n",
    "    if pre_vx != 0 or pre_w != 0:\n",
    "        print(1)\n",
    "        # pre_vx = vx\n",
    "        pre_w = w\n",
    "    else:\n",
    "        print(2)\n",
    "\n",
    "cmd_vel(1, 1)\n"
   ]
  },
  {
   "cell_type": "code",
   "execution_count": 8,
   "id": "7d50f0da-0060-4d0c-a382-7c7ca83caf95",
   "metadata": {},
   "outputs": [
    {
     "ename": "NameError",
     "evalue": "name 'vx1' is not defined",
     "output_type": "error",
     "traceback": [
      "\u001b[0;31m---------------------------------------------------------------------------\u001b[0m",
      "\u001b[0;31mNameError\u001b[0m                                 Traceback (most recent call last)",
      "\u001b[0;32m<ipython-input-8-9efce1561399>\u001b[0m in \u001b[0;36m<module>\u001b[0;34m\u001b[0m\n\u001b[0;32m----> 1\u001b[0;31m \u001b[0mprint\u001b[0m\u001b[0;34m(\u001b[0m\u001b[0mvx1\u001b[0m\u001b[0;34m)\u001b[0m\u001b[0;34m\u001b[0m\u001b[0;34m\u001b[0m\u001b[0m\n\u001b[0m\u001b[1;32m      2\u001b[0m \u001b[0mprint\u001b[0m\u001b[0;34m(\u001b[0m\u001b[0mw1\u001b[0m\u001b[0;34m)\u001b[0m\u001b[0;34m\u001b[0m\u001b[0;34m\u001b[0m\u001b[0m\n",
      "\u001b[0;31mNameError\u001b[0m: name 'vx1' is not defined"
     ]
    }
   ],
   "source": [
    "print(vx1)\n",
    "print(w1)"
   ]
  }
 ],
 "metadata": {
  "kernelspec": {
   "display_name": "Python 3",
   "language": "python",
   "name": "python3"
  },
  "language_info": {
   "codemirror_mode": {
    "name": "ipython",
    "version": 3
   },
   "file_extension": ".py",
   "mimetype": "text/x-python",
   "name": "python",
   "nbconvert_exporter": "python",
   "pygments_lexer": "ipython3",
   "version": "3.8.8"
  }
 },
 "nbformat": 4,
 "nbformat_minor": 5
}
